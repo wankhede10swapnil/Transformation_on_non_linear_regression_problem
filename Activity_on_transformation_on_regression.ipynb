{
  "nbformat": 4,
  "nbformat_minor": 0,
  "metadata": {
    "colab": {
      "provenance": [],
      "mount_file_id": "1iFDsjxeZcSx9LbNp0J7D0r6qxngcoy9B",
      "authorship_tag": "ABX9TyPqb1o0b388CGpLFP0FGv43",
      "include_colab_link": true
    },
    "kernelspec": {
      "name": "python3",
      "display_name": "Python 3"
    },
    "language_info": {
      "name": "python"
    }
  },
  "cells": [
    {
      "cell_type": "markdown",
      "metadata": {
        "id": "view-in-github",
        "colab_type": "text"
      },
      "source": [
        "<a href=\"https://colab.research.google.com/github/wankhede10swapnil/Transformation_on_non_linear_regression_problem/blob/main/Activity_on_transformation_on_regression.ipynb\" target=\"_parent\"><img src=\"https://colab.research.google.com/assets/colab-badge.svg\" alt=\"Open In Colab\"/></a>"
      ]
    },
    {
      "cell_type": "markdown",
      "source": [
        "# A  research engineer is investigating the use of a windmill to generate electricity. He has collected data on the DC output from his windmill and the corresponding wind velocity. "
      ],
      "metadata": {
        "id": "WHj99SlHAAvL"
      }
    },
    {
      "cell_type": "code",
      "source": [
        "# importing libraries\n",
        "import numpy as np\n",
        "import pandas as pd\n",
        "import matplotlib.pyplot as plt\n",
        "%matplotlib inline\n",
        "import seaborn as sns"
      ],
      "metadata": {
        "id": "kn_7UUnoBbAT"
      },
      "execution_count": 1,
      "outputs": []
    },
    {
      "cell_type": "code",
      "execution_count": 2,
      "metadata": {
        "id": "LawxhaIz__vS",
        "colab": {
          "base_uri": "https://localhost:8080/",
          "height": 833
        },
        "outputId": "a54f1994-6c86-448d-c394-0c74575a7296"
      },
      "outputs": [
        {
          "output_type": "execute_result",
          "data": {
            "text/plain": [
              "    wind_velocity  dc_output\n",
              "0            5.00      1.582\n",
              "1            6.00      1.822\n",
              "2            3.40      1.057\n",
              "3            2.70      0.500\n",
              "4           10.00      2.236\n",
              "5            9.70      2.386\n",
              "6            9.55      2.294\n",
              "7            3.05      0.558\n",
              "8            8.15      2.166\n",
              "9            6.20      1.866\n",
              "10           2.90      0.653\n",
              "11           6.35      1.930\n",
              "12           4.60      1.562\n",
              "13           5.80      1.737\n",
              "14           7.40      2.088\n",
              "15           3.60      1.137\n",
              "16           7.85      2.179\n",
              "17           8.80      2.112\n",
              "18           7.00      1.800\n",
              "19           5.45      1.501\n",
              "20           9.10      2.303\n",
              "21          10.20      2.310\n",
              "22           4.10      1.194\n",
              "23           3.95      1.144\n",
              "24           2.45      0.123"
            ],
            "text/html": [
              "\n",
              "  <div id=\"df-d5849e00-677d-4803-bc1c-1dc721ee7212\">\n",
              "    <div class=\"colab-df-container\">\n",
              "      <div>\n",
              "<style scoped>\n",
              "    .dataframe tbody tr th:only-of-type {\n",
              "        vertical-align: middle;\n",
              "    }\n",
              "\n",
              "    .dataframe tbody tr th {\n",
              "        vertical-align: top;\n",
              "    }\n",
              "\n",
              "    .dataframe thead th {\n",
              "        text-align: right;\n",
              "    }\n",
              "</style>\n",
              "<table border=\"1\" class=\"dataframe\">\n",
              "  <thead>\n",
              "    <tr style=\"text-align: right;\">\n",
              "      <th></th>\n",
              "      <th>wind_velocity</th>\n",
              "      <th>dc_output</th>\n",
              "    </tr>\n",
              "  </thead>\n",
              "  <tbody>\n",
              "    <tr>\n",
              "      <th>0</th>\n",
              "      <td>5.00</td>\n",
              "      <td>1.582</td>\n",
              "    </tr>\n",
              "    <tr>\n",
              "      <th>1</th>\n",
              "      <td>6.00</td>\n",
              "      <td>1.822</td>\n",
              "    </tr>\n",
              "    <tr>\n",
              "      <th>2</th>\n",
              "      <td>3.40</td>\n",
              "      <td>1.057</td>\n",
              "    </tr>\n",
              "    <tr>\n",
              "      <th>3</th>\n",
              "      <td>2.70</td>\n",
              "      <td>0.500</td>\n",
              "    </tr>\n",
              "    <tr>\n",
              "      <th>4</th>\n",
              "      <td>10.00</td>\n",
              "      <td>2.236</td>\n",
              "    </tr>\n",
              "    <tr>\n",
              "      <th>5</th>\n",
              "      <td>9.70</td>\n",
              "      <td>2.386</td>\n",
              "    </tr>\n",
              "    <tr>\n",
              "      <th>6</th>\n",
              "      <td>9.55</td>\n",
              "      <td>2.294</td>\n",
              "    </tr>\n",
              "    <tr>\n",
              "      <th>7</th>\n",
              "      <td>3.05</td>\n",
              "      <td>0.558</td>\n",
              "    </tr>\n",
              "    <tr>\n",
              "      <th>8</th>\n",
              "      <td>8.15</td>\n",
              "      <td>2.166</td>\n",
              "    </tr>\n",
              "    <tr>\n",
              "      <th>9</th>\n",
              "      <td>6.20</td>\n",
              "      <td>1.866</td>\n",
              "    </tr>\n",
              "    <tr>\n",
              "      <th>10</th>\n",
              "      <td>2.90</td>\n",
              "      <td>0.653</td>\n",
              "    </tr>\n",
              "    <tr>\n",
              "      <th>11</th>\n",
              "      <td>6.35</td>\n",
              "      <td>1.930</td>\n",
              "    </tr>\n",
              "    <tr>\n",
              "      <th>12</th>\n",
              "      <td>4.60</td>\n",
              "      <td>1.562</td>\n",
              "    </tr>\n",
              "    <tr>\n",
              "      <th>13</th>\n",
              "      <td>5.80</td>\n",
              "      <td>1.737</td>\n",
              "    </tr>\n",
              "    <tr>\n",
              "      <th>14</th>\n",
              "      <td>7.40</td>\n",
              "      <td>2.088</td>\n",
              "    </tr>\n",
              "    <tr>\n",
              "      <th>15</th>\n",
              "      <td>3.60</td>\n",
              "      <td>1.137</td>\n",
              "    </tr>\n",
              "    <tr>\n",
              "      <th>16</th>\n",
              "      <td>7.85</td>\n",
              "      <td>2.179</td>\n",
              "    </tr>\n",
              "    <tr>\n",
              "      <th>17</th>\n",
              "      <td>8.80</td>\n",
              "      <td>2.112</td>\n",
              "    </tr>\n",
              "    <tr>\n",
              "      <th>18</th>\n",
              "      <td>7.00</td>\n",
              "      <td>1.800</td>\n",
              "    </tr>\n",
              "    <tr>\n",
              "      <th>19</th>\n",
              "      <td>5.45</td>\n",
              "      <td>1.501</td>\n",
              "    </tr>\n",
              "    <tr>\n",
              "      <th>20</th>\n",
              "      <td>9.10</td>\n",
              "      <td>2.303</td>\n",
              "    </tr>\n",
              "    <tr>\n",
              "      <th>21</th>\n",
              "      <td>10.20</td>\n",
              "      <td>2.310</td>\n",
              "    </tr>\n",
              "    <tr>\n",
              "      <th>22</th>\n",
              "      <td>4.10</td>\n",
              "      <td>1.194</td>\n",
              "    </tr>\n",
              "    <tr>\n",
              "      <th>23</th>\n",
              "      <td>3.95</td>\n",
              "      <td>1.144</td>\n",
              "    </tr>\n",
              "    <tr>\n",
              "      <th>24</th>\n",
              "      <td>2.45</td>\n",
              "      <td>0.123</td>\n",
              "    </tr>\n",
              "  </tbody>\n",
              "</table>\n",
              "</div>\n",
              "      <button class=\"colab-df-convert\" onclick=\"convertToInteractive('df-d5849e00-677d-4803-bc1c-1dc721ee7212')\"\n",
              "              title=\"Convert this dataframe to an interactive table.\"\n",
              "              style=\"display:none;\">\n",
              "        \n",
              "  <svg xmlns=\"http://www.w3.org/2000/svg\" height=\"24px\"viewBox=\"0 0 24 24\"\n",
              "       width=\"24px\">\n",
              "    <path d=\"M0 0h24v24H0V0z\" fill=\"none\"/>\n",
              "    <path d=\"M18.56 5.44l.94 2.06.94-2.06 2.06-.94-2.06-.94-.94-2.06-.94 2.06-2.06.94zm-11 1L8.5 8.5l.94-2.06 2.06-.94-2.06-.94L8.5 2.5l-.94 2.06-2.06.94zm10 10l.94 2.06.94-2.06 2.06-.94-2.06-.94-.94-2.06-.94 2.06-2.06.94z\"/><path d=\"M17.41 7.96l-1.37-1.37c-.4-.4-.92-.59-1.43-.59-.52 0-1.04.2-1.43.59L10.3 9.45l-7.72 7.72c-.78.78-.78 2.05 0 2.83L4 21.41c.39.39.9.59 1.41.59.51 0 1.02-.2 1.41-.59l7.78-7.78 2.81-2.81c.8-.78.8-2.07 0-2.86zM5.41 20L4 18.59l7.72-7.72 1.47 1.35L5.41 20z\"/>\n",
              "  </svg>\n",
              "      </button>\n",
              "      \n",
              "  <style>\n",
              "    .colab-df-container {\n",
              "      display:flex;\n",
              "      flex-wrap:wrap;\n",
              "      gap: 12px;\n",
              "    }\n",
              "\n",
              "    .colab-df-convert {\n",
              "      background-color: #E8F0FE;\n",
              "      border: none;\n",
              "      border-radius: 50%;\n",
              "      cursor: pointer;\n",
              "      display: none;\n",
              "      fill: #1967D2;\n",
              "      height: 32px;\n",
              "      padding: 0 0 0 0;\n",
              "      width: 32px;\n",
              "    }\n",
              "\n",
              "    .colab-df-convert:hover {\n",
              "      background-color: #E2EBFA;\n",
              "      box-shadow: 0px 1px 2px rgba(60, 64, 67, 0.3), 0px 1px 3px 1px rgba(60, 64, 67, 0.15);\n",
              "      fill: #174EA6;\n",
              "    }\n",
              "\n",
              "    [theme=dark] .colab-df-convert {\n",
              "      background-color: #3B4455;\n",
              "      fill: #D2E3FC;\n",
              "    }\n",
              "\n",
              "    [theme=dark] .colab-df-convert:hover {\n",
              "      background-color: #434B5C;\n",
              "      box-shadow: 0px 1px 3px 1px rgba(0, 0, 0, 0.15);\n",
              "      filter: drop-shadow(0px 1px 2px rgba(0, 0, 0, 0.3));\n",
              "      fill: #FFFFFF;\n",
              "    }\n",
              "  </style>\n",
              "\n",
              "      <script>\n",
              "        const buttonEl =\n",
              "          document.querySelector('#df-d5849e00-677d-4803-bc1c-1dc721ee7212 button.colab-df-convert');\n",
              "        buttonEl.style.display =\n",
              "          google.colab.kernel.accessAllowed ? 'block' : 'none';\n",
              "\n",
              "        async function convertToInteractive(key) {\n",
              "          const element = document.querySelector('#df-d5849e00-677d-4803-bc1c-1dc721ee7212');\n",
              "          const dataTable =\n",
              "            await google.colab.kernel.invokeFunction('convertToInteractive',\n",
              "                                                     [key], {});\n",
              "          if (!dataTable) return;\n",
              "\n",
              "          const docLinkHtml = 'Like what you see? Visit the ' +\n",
              "            '<a target=\"_blank\" href=https://colab.research.google.com/notebooks/data_table.ipynb>data table notebook</a>'\n",
              "            + ' to learn more about interactive tables.';\n",
              "          element.innerHTML = '';\n",
              "          dataTable['output_type'] = 'display_data';\n",
              "          await google.colab.output.renderOutput(dataTable, element);\n",
              "          const docLink = document.createElement('div');\n",
              "          docLink.innerHTML = docLinkHtml;\n",
              "          element.appendChild(docLink);\n",
              "        }\n",
              "      </script>\n",
              "    </div>\n",
              "  </div>\n",
              "  "
            ]
          },
          "metadata": {},
          "execution_count": 2
        }
      ],
      "source": [
        "# initialize data of lists.\n",
        "data = {'wind_velocity': [5.00, 6.00, 3.40, 2.70, 10.00, 9.70, 9.55, 3.05, 8.15, 6.20, 2.90, 6.35, 4.60, 5.80, 7.40, 3.60, 7.85, 8.80, 7.00, 5.45, 9.10, 10.20, 4.10, 3.95, 2.45],\n",
        "        'dc_output': [1.582, 1.822, 1.057, 0.500, 2.236, 2.386, 2.294, 0.558, 2.166, 1.866, 0.653, 1.930, 1.562, 1.737, 2.088, 1.137, 2.179, 2.112, 1.800, 1.501, 2.303, 2.310, 1.194, 1.144, 0.123]}\n",
        "  \n",
        "# Create DataFrame\n",
        "df = pd.DataFrame(data)\n",
        "  \n",
        "# Print the output.\n",
        "df "
      ]
    },
    {
      "cell_type": "code",
      "source": [
        "df.info()"
      ],
      "metadata": {
        "id": "49geKIaFFli2",
        "colab": {
          "base_uri": "https://localhost:8080/"
        },
        "outputId": "c8ece60d-be8e-4e5b-e5e0-9f8c71458efe"
      },
      "execution_count": 3,
      "outputs": [
        {
          "output_type": "stream",
          "name": "stdout",
          "text": [
            "<class 'pandas.core.frame.DataFrame'>\n",
            "RangeIndex: 25 entries, 0 to 24\n",
            "Data columns (total 2 columns):\n",
            " #   Column         Non-Null Count  Dtype  \n",
            "---  ------         --------------  -----  \n",
            " 0   wind_velocity  25 non-null     float64\n",
            " 1   dc_output      25 non-null     float64\n",
            "dtypes: float64(2)\n",
            "memory usage: 528.0 bytes\n"
          ]
        }
      ]
    },
    {
      "cell_type": "markdown",
      "source": [
        "### **Given dataset contains 25 observations with two variables.**\n",
        "\n",
        "\n",
        "### * wind_velocity is a Predictor or Explanatory or Independent or Input variable\n",
        "\n",
        "### * dc_output is a  Predicted or Explained or Dependent or Output variable.\n",
        "\n",
        "Both variable are float type.\n",
        "\n",
        "\n"
      ],
      "metadata": {
        "id": "27UgFYABFzAj"
      }
    },
    {
      "cell_type": "code",
      "source": [
        "len(df) # 25 observations."
      ],
      "metadata": {
        "colab": {
          "base_uri": "https://localhost:8080/"
        },
        "id": "pKSe6-3pIR7P",
        "outputId": "df71b05c-0901-4a4c-90e5-924562a277e6"
      },
      "execution_count": 4,
      "outputs": [
        {
          "output_type": "execute_result",
          "data": {
            "text/plain": [
              "25"
            ]
          },
          "metadata": {},
          "execution_count": 4
        }
      ]
    },
    {
      "cell_type": "code",
      "source": [
        "df.shape"
      ],
      "metadata": {
        "colab": {
          "base_uri": "https://localhost:8080/"
        },
        "id": "YRm-SNUZKBbj",
        "outputId": "809e7c2a-97c1-4369-86f0-3bfca1cf9b54"
      },
      "execution_count": 5,
      "outputs": [
        {
          "output_type": "execute_result",
          "data": {
            "text/plain": [
              "(25, 2)"
            ]
          },
          "metadata": {},
          "execution_count": 5
        }
      ]
    },
    {
      "cell_type": "markdown",
      "source": [
        "Some are the steps are going to be followed. These are\n",
        "\n",
        "\n",
        "1.   To conduct a standard regression analysis.\n",
        "\n",
        "2.   To construct a residual plots.\n",
        "\n",
        "*   If the plot pattern is random, transformation will not be applied\n",
        "*   If the plot pattern is not random, transformation will be applied.\n",
        "\n",
        "\n",
        "\n",
        "\n",
        "\n",
        "3.   To compute the coefficient of determination.\n",
        "\n",
        "4.   To choose the best transformation method.\n",
        "\n",
        "5.   To Transform the independent variable or dependent variable or both.\n",
        "6.   To construct regression analysis using transform variable.\n",
        "\n",
        "\n",
        "\n",
        "\n",
        "\n",
        "\n",
        "\n",
        "\n",
        "\n",
        "\n",
        "\n",
        "\n",
        "\n",
        "\n"
      ],
      "metadata": {
        "id": "qVij86JloJZi"
      }
    },
    {
      "cell_type": "markdown",
      "source": [
        "# To conduct a standard regression analysis, construct a residual plots and computation of coefficient of determination."
      ],
      "metadata": {
        "id": "XCthRWyNqhx9"
      }
    },
    {
      "cell_type": "markdown",
      "source": [
        "It is found that the data points shows a strong linear trend, but the relationship is nonlinear. If i ignore the nonlinearity and fit a simple linear regression model. The model become-\n",
        "* predicated_dc_output = (y_intercept) + (parameter)(wind_velocity)\n"
      ],
      "metadata": {
        "id": "tD5IUbGepYMl"
      }
    },
    {
      "cell_type": "code",
      "source": [
        "# To create the independent variable.\n",
        "x = df['wind_velocity']\n",
        "x = np.array(x[:]).reshape(-1,1)\n",
        "x"
      ],
      "metadata": {
        "colab": {
          "base_uri": "https://localhost:8080/"
        },
        "id": "rJu9E_XPxnp0",
        "outputId": "29fe56b9-51c4-4cc2-aad6-bccbcbd28d40"
      },
      "execution_count": 6,
      "outputs": [
        {
          "output_type": "execute_result",
          "data": {
            "text/plain": [
              "array([[ 5.  ],\n",
              "       [ 6.  ],\n",
              "       [ 3.4 ],\n",
              "       [ 2.7 ],\n",
              "       [10.  ],\n",
              "       [ 9.7 ],\n",
              "       [ 9.55],\n",
              "       [ 3.05],\n",
              "       [ 8.15],\n",
              "       [ 6.2 ],\n",
              "       [ 2.9 ],\n",
              "       [ 6.35],\n",
              "       [ 4.6 ],\n",
              "       [ 5.8 ],\n",
              "       [ 7.4 ],\n",
              "       [ 3.6 ],\n",
              "       [ 7.85],\n",
              "       [ 8.8 ],\n",
              "       [ 7.  ],\n",
              "       [ 5.45],\n",
              "       [ 9.1 ],\n",
              "       [10.2 ],\n",
              "       [ 4.1 ],\n",
              "       [ 3.95],\n",
              "       [ 2.45]])"
            ]
          },
          "metadata": {},
          "execution_count": 6
        }
      ]
    },
    {
      "cell_type": "code",
      "source": [
        "# To create the dependent variable.\n",
        "y = df['dc_output']\n",
        "y = np.array(y[:]).reshape(-1,1)\n",
        "y"
      ],
      "metadata": {
        "colab": {
          "base_uri": "https://localhost:8080/"
        },
        "id": "b8yd0KMnyD9K",
        "outputId": "e7e096a7-78a4-4a0f-d7cb-fec356cac378"
      },
      "execution_count": 7,
      "outputs": [
        {
          "output_type": "execute_result",
          "data": {
            "text/plain": [
              "array([[1.582],\n",
              "       [1.822],\n",
              "       [1.057],\n",
              "       [0.5  ],\n",
              "       [2.236],\n",
              "       [2.386],\n",
              "       [2.294],\n",
              "       [0.558],\n",
              "       [2.166],\n",
              "       [1.866],\n",
              "       [0.653],\n",
              "       [1.93 ],\n",
              "       [1.562],\n",
              "       [1.737],\n",
              "       [2.088],\n",
              "       [1.137],\n",
              "       [2.179],\n",
              "       [2.112],\n",
              "       [1.8  ],\n",
              "       [1.501],\n",
              "       [2.303],\n",
              "       [2.31 ],\n",
              "       [1.194],\n",
              "       [1.144],\n",
              "       [0.123]])"
            ]
          },
          "metadata": {},
          "execution_count": 7
        }
      ]
    },
    {
      "cell_type": "code",
      "source": [
        "# Splitting the dataset into the Training set and Test set.\n",
        "from sklearn.model_selection import train_test_split\n",
        "x_train, x_test, y_train, y_test = train_test_split(x,y, test_size = 0.2, random_state = 0)"
      ],
      "metadata": {
        "id": "rFoqPAiQuO-e"
      },
      "execution_count": 8,
      "outputs": []
    },
    {
      "cell_type": "code",
      "source": [
        "x_train"
      ],
      "metadata": {
        "colab": {
          "base_uri": "https://localhost:8080/"
        },
        "id": "GTlcmFJTkOsZ",
        "outputId": "67151206-fe55-4a5e-da2a-18c8ee791d43"
      },
      "execution_count": 9,
      "outputs": [
        {
          "output_type": "execute_result",
          "data": {
            "text/plain": [
              "array([[ 4.1 ],\n",
              "       [ 8.8 ],\n",
              "       [ 2.45],\n",
              "       [ 3.95],\n",
              "       [ 7.4 ],\n",
              "       [ 6.  ],\n",
              "       [ 2.9 ],\n",
              "       [ 5.8 ],\n",
              "       [ 8.15],\n",
              "       [ 9.55],\n",
              "       [ 7.  ],\n",
              "       [10.  ],\n",
              "       [ 6.2 ],\n",
              "       [ 3.05],\n",
              "       [ 9.1 ],\n",
              "       [ 2.7 ],\n",
              "       [ 5.  ],\n",
              "       [10.2 ],\n",
              "       [ 3.6 ],\n",
              "       [ 4.6 ]])"
            ]
          },
          "metadata": {},
          "execution_count": 9
        }
      ]
    },
    {
      "cell_type": "code",
      "source": [
        "# Fitting Linear Regression to the Training set.\n",
        "from sklearn.linear_model import LinearRegression\n",
        "regressor = LinearRegression()\n",
        "regressor.fit(x_train, y_train)"
      ],
      "metadata": {
        "colab": {
          "base_uri": "https://localhost:8080/"
        },
        "id": "_xLjhxP2vzsv",
        "outputId": "c6596223-f937-41db-9da4-08da3501ef12"
      },
      "execution_count": 10,
      "outputs": [
        {
          "output_type": "execute_result",
          "data": {
            "text/plain": [
              "LinearRegression()"
            ]
          },
          "metadata": {},
          "execution_count": 10
        }
      ]
    },
    {
      "cell_type": "code",
      "source": [
        "x_train[0:20]"
      ],
      "metadata": {
        "colab": {
          "base_uri": "https://localhost:8080/"
        },
        "id": "ToXH15KAj-6R",
        "outputId": "cd85610b-9808-41de-cb65-a4496488b12b"
      },
      "execution_count": 11,
      "outputs": [
        {
          "output_type": "execute_result",
          "data": {
            "text/plain": [
              "array([[ 4.1 ],\n",
              "       [ 8.8 ],\n",
              "       [ 2.45],\n",
              "       [ 3.95],\n",
              "       [ 7.4 ],\n",
              "       [ 6.  ],\n",
              "       [ 2.9 ],\n",
              "       [ 5.8 ],\n",
              "       [ 8.15],\n",
              "       [ 9.55],\n",
              "       [ 7.  ],\n",
              "       [10.  ],\n",
              "       [ 6.2 ],\n",
              "       [ 3.05],\n",
              "       [ 9.1 ],\n",
              "       [ 2.7 ],\n",
              "       [ 5.  ],\n",
              "       [10.2 ],\n",
              "       [ 3.6 ],\n",
              "       [ 4.6 ]])"
            ]
          },
          "metadata": {},
          "execution_count": 11
        }
      ]
    },
    {
      "cell_type": "code",
      "source": [
        "regressor.coef_"
      ],
      "metadata": {
        "colab": {
          "base_uri": "https://localhost:8080/"
        },
        "id": "PBRLIUkvka0y",
        "outputId": "da6dd51e-57e7-417c-bbd6-53b6825f0465"
      },
      "execution_count": 12,
      "outputs": [
        {
          "output_type": "execute_result",
          "data": {
            "text/plain": [
              "array([[0.24308333]])"
            ]
          },
          "metadata": {},
          "execution_count": 12
        }
      ]
    },
    {
      "cell_type": "code",
      "source": [
        "regressor.intercept_"
      ],
      "metadata": {
        "colab": {
          "base_uri": "https://localhost:8080/"
        },
        "id": "fx1Ojdwykigh",
        "outputId": "4f90bdd0-9a97-4cc4-da1f-d35d37e298aa"
      },
      "execution_count": 13,
      "outputs": [
        {
          "output_type": "execute_result",
          "data": {
            "text/plain": [
              "array([0.09416526])"
            ]
          },
          "metadata": {},
          "execution_count": 13
        }
      ]
    },
    {
      "cell_type": "code",
      "source": [
        "y_pred_train = regressor.predict(x_train)"
      ],
      "metadata": {
        "id": "degSNs39kpiR"
      },
      "execution_count": 14,
      "outputs": []
    },
    {
      "cell_type": "code",
      "source": [
        "y_train"
      ],
      "metadata": {
        "colab": {
          "base_uri": "https://localhost:8080/"
        },
        "id": "poH4SbZOk4aa",
        "outputId": "0020ed35-b3b7-4c7a-92c9-13ec4bca6bf7"
      },
      "execution_count": 15,
      "outputs": [
        {
          "output_type": "execute_result",
          "data": {
            "text/plain": [
              "array([[1.194],\n",
              "       [2.112],\n",
              "       [0.123],\n",
              "       [1.144],\n",
              "       [2.088],\n",
              "       [1.822],\n",
              "       [0.653],\n",
              "       [1.737],\n",
              "       [2.166],\n",
              "       [2.294],\n",
              "       [1.8  ],\n",
              "       [2.236],\n",
              "       [1.866],\n",
              "       [0.558],\n",
              "       [2.303],\n",
              "       [0.5  ],\n",
              "       [1.582],\n",
              "       [2.31 ],\n",
              "       [1.137],\n",
              "       [1.562]])"
            ]
          },
          "metadata": {},
          "execution_count": 15
        }
      ]
    },
    {
      "cell_type": "code",
      "source": [
        "# predicting the Test set results\n",
        "y_pred = regressor.predict(x_test)"
      ],
      "metadata": {
        "id": "RNmbA37YlBjl"
      },
      "execution_count": 16,
      "outputs": []
    },
    {
      "cell_type": "code",
      "source": [
        "# Predicted dc_output\n",
        "y_pred"
      ],
      "metadata": {
        "colab": {
          "base_uri": "https://localhost:8080/"
        },
        "id": "HXgIWu31lGNv",
        "outputId": "d6440863-a887-4818-b9ca-8d5eff83a092"
      },
      "execution_count": 17,
      "outputs": [
        {
          "output_type": "execute_result",
          "data": {
            "text/plain": [
              "array([[2.45207351],\n",
              "       [0.92064856],\n",
              "       [1.41896938],\n",
              "       [2.00236936],\n",
              "       [1.63774437]])"
            ]
          },
          "metadata": {},
          "execution_count": 17
        }
      ]
    },
    {
      "cell_type": "code",
      "source": [
        "# Actual dc_output\n",
        "y_test"
      ],
      "metadata": {
        "colab": {
          "base_uri": "https://localhost:8080/"
        },
        "id": "njW6xjWTleX-",
        "outputId": "5b8fb574-a0f0-485c-ea0d-522f59ca8ae4"
      },
      "execution_count": 18,
      "outputs": [
        {
          "output_type": "execute_result",
          "data": {
            "text/plain": [
              "array([[2.386],\n",
              "       [1.057],\n",
              "       [1.501],\n",
              "       [2.179],\n",
              "       [1.93 ]])"
            ]
          },
          "metadata": {},
          "execution_count": 18
        }
      ]
    },
    {
      "cell_type": "code",
      "source": [
        "from sklearn.metrics import mean_squared_error\n",
        "mean_squared_error(y_test, y_pred)"
      ],
      "metadata": {
        "colab": {
          "base_uri": "https://localhost:8080/"
        },
        "id": "8LtXDgNSlop6",
        "outputId": "6a0c9bed-dd23-4e10-8ae7-f63ab102fbe5"
      },
      "execution_count": 19,
      "outputs": [
        {
          "output_type": "execute_result",
          "data": {
            "text/plain": [
              "0.029259636145354033"
            ]
          },
          "metadata": {},
          "execution_count": 19
        }
      ]
    },
    {
      "cell_type": "code",
      "source": [
        "from sklearn.metrics import r2_score"
      ],
      "metadata": {
        "id": "o0t2oevbl_YN"
      },
      "execution_count": 20,
      "outputs": []
    },
    {
      "cell_type": "code",
      "source": [
        "# Train performance\n",
        "from numpy import math\n",
        "math.sqrt(mean_squared_error(y_train, y_pred_train))"
      ],
      "metadata": {
        "colab": {
          "base_uri": "https://localhost:8080/"
        },
        "id": "h1CP5ZdPmPja",
        "outputId": "01cdb8cf-65fd-45a6-a27f-b4282af1be20"
      },
      "execution_count": 21,
      "outputs": [
        {
          "output_type": "execute_result",
          "data": {
            "text/plain": [
              "0.23992550104318677"
            ]
          },
          "metadata": {},
          "execution_count": 21
        }
      ]
    },
    {
      "cell_type": "code",
      "source": [
        "r2_score(y_train, y_pred_train)"
      ],
      "metadata": {
        "colab": {
          "base_uri": "https://localhost:8080/"
        },
        "id": "cqEDL7cPnCXK",
        "outputId": "c361b65d-bfa0-48a1-990a-2b8037b0ff39"
      },
      "execution_count": 22,
      "outputs": [
        {
          "output_type": "execute_result",
          "data": {
            "text/plain": [
              "0.8693778467478592"
            ]
          },
          "metadata": {},
          "execution_count": 22
        }
      ]
    },
    {
      "cell_type": "code",
      "source": [
        "# Test performance\n",
        "math.sqrt(mean_squared_error(y_test, y_pred))"
      ],
      "metadata": {
        "colab": {
          "base_uri": "https://localhost:8080/"
        },
        "id": "kJroNgLBmrFl",
        "outputId": "ef63a5f7-b571-4204-8b0e-7d99a5d899be"
      },
      "execution_count": 23,
      "outputs": [
        {
          "output_type": "execute_result",
          "data": {
            "text/plain": [
              "0.17105448297356615"
            ]
          },
          "metadata": {},
          "execution_count": 23
        }
      ]
    },
    {
      "cell_type": "code",
      "source": [
        "r2_score(y_test, y_pred)"
      ],
      "metadata": {
        "colab": {
          "base_uri": "https://localhost:8080/"
        },
        "id": "pS8jD4HWnWNB",
        "outputId": "e8b19d00-9fb1-4b91-e84b-89cc2fe0f6ba"
      },
      "execution_count": 24,
      "outputs": [
        {
          "output_type": "execute_result",
          "data": {
            "text/plain": [
              "0.872209154090275"
            ]
          },
          "metadata": {},
          "execution_count": 24
        }
      ]
    },
    {
      "cell_type": "code",
      "source": [
        "import statsmodels.api as sm\n",
        "\n",
        "\n",
        "#add constant to predictor variables\n",
        "x = sm.add_constant(x)\n",
        "\n",
        "#fit linear regression model\n",
        "model = sm.OLS(y, x).fit()\n",
        "\n",
        "#view model summary\n",
        "print(model.summary())"
      ],
      "metadata": {
        "colab": {
          "base_uri": "https://localhost:8080/"
        },
        "id": "YCOeZyorolPd",
        "outputId": "68b03e33-9fd5-480e-d4ff-4a11474ac226"
      },
      "execution_count": 25,
      "outputs": [
        {
          "output_type": "stream",
          "name": "stdout",
          "text": [
            "                            OLS Regression Results                            \n",
            "==============================================================================\n",
            "Dep. Variable:                      y   R-squared:                       0.874\n",
            "Model:                            OLS   Adj. R-squared:                  0.869\n",
            "Method:                 Least Squares   F-statistic:                     160.3\n",
            "Date:                Fri, 30 Dec 2022   Prob (F-statistic):           7.55e-12\n",
            "Time:                        12:36:11   Log-Likelihood:                 1.6614\n",
            "No. Observations:                  25   AIC:                            0.6772\n",
            "Df Residuals:                      23   BIC:                             3.115\n",
            "Df Model:                           1                                         \n",
            "Covariance Type:            nonrobust                                         \n",
            "==============================================================================\n",
            "                 coef    std err          t      P>|t|      [0.025      0.975]\n",
            "------------------------------------------------------------------------------\n",
            "const          0.1309      0.126      1.039      0.310      -0.130       0.392\n",
            "x1             0.2411      0.019     12.659      0.000       0.202       0.281\n",
            "==============================================================================\n",
            "Omnibus:                        2.989   Durbin-Watson:                   1.214\n",
            "Prob(Omnibus):                  0.224   Jarque-Bera (JB):                2.200\n",
            "Skew:                          -0.725   Prob(JB):                        0.333\n",
            "Kurtosis:                       2.906   Cond. No.                         18.0\n",
            "==============================================================================\n",
            "\n",
            "Notes:\n",
            "[1] Standard Errors assume that the covariance matrix of the errors is correctly specified.\n"
          ]
        }
      ]
    },
    {
      "cell_type": "code",
      "source": [
        "# To check the multicollinearity. \n",
        "# no multicollinearity in given dataset as there is only one independent variable.\n",
        "# no need to check.\n"
      ],
      "metadata": {
        "id": "39SaskKmpbGC"
      },
      "execution_count": 26,
      "outputs": []
    },
    {
      "cell_type": "code",
      "source": [
        "# To check linearity and Normality test\n",
        "sns.set(style = 'ticks', color_codes = True, font_scale = 2)\n",
        "linearity = sns.pairplot(df, height = 3, diag_kind = 'hist', kind = 'reg')\n",
        "linearity.fig.suptitle('scatter plot', y = 1)"
      ],
      "metadata": {
        "colab": {
          "base_uri": "https://localhost:8080/",
          "height": 465
        },
        "id": "SVGUndUzqnXn",
        "outputId": "cc270889-47e0-42bd-d9cf-8a469803aacc"
      },
      "execution_count": 27,
      "outputs": [
        {
          "output_type": "execute_result",
          "data": {
            "text/plain": [
              "Text(0.5, 1, 'scatter plot')"
            ]
          },
          "metadata": {},
          "execution_count": 27
        },
        {
          "output_type": "display_data",
          "data": {
            "text/plain": [
              "<Figure size 432x432 with 6 Axes>"
            ],
            "image/png": "[encoded data removed]"
          },
          "metadata": {}
        }
      ]
    },
    {
      "cell_type": "code",
      "source": [
        "# To check Homoscedasticity\n",
        "from statsmodels.formula.api import ols\n",
        "reg = ols('dc_output~wind_velocity', data = df).fit()\n",
        "#reg.summary()\n"
      ],
      "metadata": {
        "id": "SueTz0Er6HU0"
      },
      "execution_count": 28,
      "outputs": []
    },
    {
      "cell_type": "code",
      "source": [
        "#fig, ax = plt.subplots(figsize=(8,2.5))\n",
        "pred_val = reg.fittedvalues.copy()\n",
        "true_val = df['dc_output'].values.copy()\n",
        "resid = true_val - pred_val\n",
        "sns.residplot(resid, pred_val)\n",
        "plt.title('Homoscedasticity')"
      ],
      "metadata": {
        "colab": {
          "base_uri": "https://localhost:8080/",
          "height": 377
        },
        "id": "eC-rJypS7M1W",
        "outputId": "7b8fddb5-1641-4900-8879-7433ae54daf6"
      },
      "execution_count": 29,
      "outputs": [
        {
          "output_type": "stream",
          "name": "stderr",
          "text": [
            "/usr/local/lib/python3.8/dist-packages/seaborn/_decorators.py:36: FutureWarning: Pass the following variables as keyword args: x, y. From version 0.12, the only valid positional argument will be `data`, and passing other arguments without an explicit keyword will result in an error or misinterpretation.\n",
            "  warnings.warn(\n"
          ]
        },
        {
          "output_type": "execute_result",
          "data": {
            "text/plain": [
              "Text(0.5, 1.0, 'Homoscedasticity')"
            ]
          },
          "metadata": {},
          "execution_count": 29
        },
        {
          "output_type": "display_data",
          "data": {
            "text/plain": [
              "<Figure size 432x288 with 1 Axes>"
            ],
            "image/png": "[encoded data removed]"
          },
          "metadata": {}
        }
      ]
    },
    {
      "cell_type": "code",
      "source": [
        "# To check Normality of errors/residuals\n",
        "import scipy.stats as stats\n",
        "stats.probplot(resid, dist = 'norm',  plot = plt)\n",
        "plt.show()\n"
      ],
      "metadata": {
        "colab": {
          "base_uri": "https://localhost:8080/",
          "height": 331
        },
        "id": "ZeDVkF3q8-gj",
        "outputId": "b27f3417-0270-4ff2-f1ae-5a7e6f8d8d93"
      },
      "execution_count": 30,
      "outputs": [
        {
          "output_type": "display_data",
          "data": {
            "text/plain": [
              "<Figure size 432x288 with 1 Axes>"
            ],
            "image/png": "[encoded data removed]"
          },
          "metadata": {}
        }
      ]
    },
    {
      "cell_type": "markdown",
      "source": [
        "After calculating the value, model become-\n",
        "\n",
        "* predicted_dc_output = 0.09416526 + 0.09416526 wind_velocity\n",
        "\n",
        "Although the R Squared value from this fit is high which is equal to  0.874. However it is not satisficatory model. The plot of the resiuals against wind speed (which is equal to plotting the residuals agianst the fitted values) clearly points out the inadequacy.\n",
        "It is found that all data points are not coverted by the fitted line. most of the points are approximely close to fitted line. The plot shows that the linear regression but underestimates the dc_outputs for wind speeds in the middle and overestimates the dc output for low and high wind speeds. \n",
        "As a result, This is model is not acceptable for making predications."
      ],
      "metadata": {
        "id": "Oh0rAHq89wEu"
      }
    },
    {
      "cell_type": "markdown",
      "source": [
        "# To choose the best transformation method.\n",
        "\n",
        "# Transform the independent variable or dependent variable or both.\n",
        "\n",
        "# To construct regression analysis using transform variable."
      ],
      "metadata": {
        "id": "MxgIGlwk0gFL"
      }
    },
    {
      "cell_type": "markdown",
      "source": [
        "When we assume the data linear, it is found that, dc_output approaches upper limit of about 2.3 as the wind speed increases.\n",
        "After applying the tranfomation by using independent variable and dependent variable.\n",
        "we come to conclusion that, reciporcal of wind velocity which would be transfromation of independent variable which fits good to given data. The model becomes\n",
        "\n",
        "* predicated_dc_output = (y_intercept) + (parameter) (1/wind_velocity)\n",
        "\n"
      ],
      "metadata": {
        "id": "mrAX1Eye0_rt"
      }
    },
    {
      "cell_type": "code",
      "source": [
        "# To get new dataframe.\n",
        "# Adding one column\n",
        "df['reciprocal_of_wind_velocity']=1/df['wind_velocity']\n",
        "# df=df.drop(['wind_velocity'],axis=1, inplace=False)\n",
        "df"
      ],
      "metadata": {
        "colab": {
          "base_uri": "https://localhost:8080/",
          "height": 833
        },
        "id": "HtE8k0d48wZe",
        "outputId": "19e25f04-3d95-4b93-dd3c-e7761b569b86"
      },
      "execution_count": 31,
      "outputs": [
        {
          "output_type": "execute_result",
          "data": {
            "text/plain": [
              "    wind_velocity  dc_output  reciprocal_of_wind_velocity\n",
              "0            5.00      1.582                     0.200000\n",
              "1            6.00      1.822                     0.166667\n",
              "2            3.40      1.057                     0.294118\n",
              "3            2.70      0.500                     0.370370\n",
              "4           10.00      2.236                     0.100000\n",
              "5            9.70      2.386                     0.103093\n",
              "6            9.55      2.294                     0.104712\n",
              "7            3.05      0.558                     0.327869\n",
              "8            8.15      2.166                     0.122699\n",
              "9            6.20      1.866                     0.161290\n",
              "10           2.90      0.653                     0.344828\n",
              "11           6.35      1.930                     0.157480\n",
              "12           4.60      1.562                     0.217391\n",
              "13           5.80      1.737                     0.172414\n",
              "14           7.40      2.088                     0.135135\n",
              "15           3.60      1.137                     0.277778\n",
              "16           7.85      2.179                     0.127389\n",
              "17           8.80      2.112                     0.113636\n",
              "18           7.00      1.800                     0.142857\n",
              "19           5.45      1.501                     0.183486\n",
              "20           9.10      2.303                     0.109890\n",
              "21          10.20      2.310                     0.098039\n",
              "22           4.10      1.194                     0.243902\n",
              "23           3.95      1.144                     0.253165\n",
              "24           2.45      0.123                     0.408163"
            ],
            "text/html": [
              "\n",
              "  <div id=\"df-4264f5b7-e69a-4ec2-875c-e56b0e2bc24e\">\n",
              "    <div class=\"colab-df-container\">\n",
              "      <div>\n",
              "<style scoped>\n",
              "    .dataframe tbody tr th:only-of-type {\n",
              "        vertical-align: middle;\n",
              "    }\n",
              "\n",
              "    .dataframe tbody tr th {\n",
              "        vertical-align: top;\n",
              "    }\n",
              "\n",
              "    .dataframe thead th {\n",
              "        text-align: right;\n",
              "    }\n",
              "</style>\n",
              "<table border=\"1\" class=\"dataframe\">\n",
              "  <thead>\n",
              "    <tr style=\"text-align: right;\">\n",
              "      <th></th>\n",
              "      <th>wind_velocity</th>\n",
              "      <th>dc_output</th>\n",
              "      <th>reciprocal_of_wind_velocity</th>\n",
              "    </tr>\n",
              "  </thead>\n",
              "  <tbody>\n",
              "    <tr>\n",
              "      <th>0</th>\n",
              "      <td>5.00</td>\n",
              "      <td>1.582</td>\n",
              "      <td>0.200000</td>\n",
              "    </tr>\n",
              "    <tr>\n",
              "      <th>1</th>\n",
              "      <td>6.00</td>\n",
              "      <td>1.822</td>\n",
              "      <td>0.166667</td>\n",
              "    </tr>\n",
              "    <tr>\n",
              "      <th>2</th>\n",
              "      <td>3.40</td>\n",
              "      <td>1.057</td>\n",
              "      <td>0.294118</td>\n",
              "    </tr>\n",
              "    <tr>\n",
              "      <th>3</th>\n",
              "      <td>2.70</td>\n",
              "      <td>0.500</td>\n",
              "      <td>0.370370</td>\n",
              "    </tr>\n",
              "    <tr>\n",
              "      <th>4</th>\n",
              "      <td>10.00</td>\n",
              "      <td>2.236</td>\n",
              "      <td>0.100000</td>\n",
              "    </tr>\n",
              "    <tr>\n",
              "      <th>5</th>\n",
              "      <td>9.70</td>\n",
              "      <td>2.386</td>\n",
              "      <td>0.103093</td>\n",
              "    </tr>\n",
              "    <tr>\n",
              "      <th>6</th>\n",
              "      <td>9.55</td>\n",
              "      <td>2.294</td>\n",
              "      <td>0.104712</td>\n",
              "    </tr>\n",
              "    <tr>\n",
              "      <th>7</th>\n",
              "      <td>3.05</td>\n",
              "      <td>0.558</td>\n",
              "      <td>0.327869</td>\n",
              "    </tr>\n",
              "    <tr>\n",
              "      <th>8</th>\n",
              "      <td>8.15</td>\n",
              "      <td>2.166</td>\n",
              "      <td>0.122699</td>\n",
              "    </tr>\n",
              "    <tr>\n",
              "      <th>9</th>\n",
              "      <td>6.20</td>\n",
              "      <td>1.866</td>\n",
              "      <td>0.161290</td>\n",
              "    </tr>\n",
              "    <tr>\n",
              "      <th>10</th>\n",
              "      <td>2.90</td>\n",
              "      <td>0.653</td>\n",
              "      <td>0.344828</td>\n",
              "    </tr>\n",
              "    <tr>\n",
              "      <th>11</th>\n",
              "      <td>6.35</td>\n",
              "      <td>1.930</td>\n",
              "      <td>0.157480</td>\n",
              "    </tr>\n",
              "    <tr>\n",
              "      <th>12</th>\n",
              "      <td>4.60</td>\n",
              "      <td>1.562</td>\n",
              "      <td>0.217391</td>\n",
              "    </tr>\n",
              "    <tr>\n",
              "      <th>13</th>\n",
              "      <td>5.80</td>\n",
              "      <td>1.737</td>\n",
              "      <td>0.172414</td>\n",
              "    </tr>\n",
              "    <tr>\n",
              "      <th>14</th>\n",
              "      <td>7.40</td>\n",
              "      <td>2.088</td>\n",
              "      <td>0.135135</td>\n",
              "    </tr>\n",
              "    <tr>\n",
              "      <th>15</th>\n",
              "      <td>3.60</td>\n",
              "      <td>1.137</td>\n",
              "      <td>0.277778</td>\n",
              "    </tr>\n",
              "    <tr>\n",
              "      <th>16</th>\n",
              "      <td>7.85</td>\n",
              "      <td>2.179</td>\n",
              "      <td>0.127389</td>\n",
              "    </tr>\n",
              "    <tr>\n",
              "      <th>17</th>\n",
              "      <td>8.80</td>\n",
              "      <td>2.112</td>\n",
              "      <td>0.113636</td>\n",
              "    </tr>\n",
              "    <tr>\n",
              "      <th>18</th>\n",
              "      <td>7.00</td>\n",
              "      <td>1.800</td>\n",
              "      <td>0.142857</td>\n",
              "    </tr>\n",
              "    <tr>\n",
              "      <th>19</th>\n",
              "      <td>5.45</td>\n",
              "      <td>1.501</td>\n",
              "      <td>0.183486</td>\n",
              "    </tr>\n",
              "    <tr>\n",
              "      <th>20</th>\n",
              "      <td>9.10</td>\n",
              "      <td>2.303</td>\n",
              "      <td>0.109890</td>\n",
              "    </tr>\n",
              "    <tr>\n",
              "      <th>21</th>\n",
              "      <td>10.20</td>\n",
              "      <td>2.310</td>\n",
              "      <td>0.098039</td>\n",
              "    </tr>\n",
              "    <tr>\n",
              "      <th>22</th>\n",
              "      <td>4.10</td>\n",
              "      <td>1.194</td>\n",
              "      <td>0.243902</td>\n",
              "    </tr>\n",
              "    <tr>\n",
              "      <th>23</th>\n",
              "      <td>3.95</td>\n",
              "      <td>1.144</td>\n",
              "      <td>0.253165</td>\n",
              "    </tr>\n",
              "    <tr>\n",
              "      <th>24</th>\n",
              "      <td>2.45</td>\n",
              "      <td>0.123</td>\n",
              "      <td>0.408163</td>\n",
              "    </tr>\n",
              "  </tbody>\n",
              "</table>\n",
              "</div>\n",
              "      <button class=\"colab-df-convert\" onclick=\"convertToInteractive('df-4264f5b7-e69a-4ec2-875c-e56b0e2bc24e')\"\n",
              "              title=\"Convert this dataframe to an interactive table.\"\n",
              "              style=\"display:none;\">\n",
              "        \n",
              "  <svg xmlns=\"http://www.w3.org/2000/svg\" height=\"24px\"viewBox=\"0 0 24 24\"\n",
              "       width=\"24px\">\n",
              "    <path d=\"M0 0h24v24H0V0z\" fill=\"none\"/>\n",
              "    <path d=\"M18.56 5.44l.94 2.06.94-2.06 2.06-.94-2.06-.94-.94-2.06-.94 2.06-2.06.94zm-11 1L8.5 8.5l.94-2.06 2.06-.94-2.06-.94L8.5 2.5l-.94 2.06-2.06.94zm10 10l.94 2.06.94-2.06 2.06-.94-2.06-.94-.94-2.06-.94 2.06-2.06.94z\"/><path d=\"M17.41 7.96l-1.37-1.37c-.4-.4-.92-.59-1.43-.59-.52 0-1.04.2-1.43.59L10.3 9.45l-7.72 7.72c-.78.78-.78 2.05 0 2.83L4 21.41c.39.39.9.59 1.41.59.51 0 1.02-.2 1.41-.59l7.78-7.78 2.81-2.81c.8-.78.8-2.07 0-2.86zM5.41 20L4 18.59l7.72-7.72 1.47 1.35L5.41 20z\"/>\n",
              "  </svg>\n",
              "      </button>\n",
              "      \n",
              "  <style>\n",
              "    .colab-df-container {\n",
              "      display:flex;\n",
              "      flex-wrap:wrap;\n",
              "      gap: 12px;\n",
              "    }\n",
              "\n",
              "    .colab-df-convert {\n",
              "      background-color: #E8F0FE;\n",
              "      border: none;\n",
              "      border-radius: 50%;\n",
              "      cursor: pointer;\n",
              "      display: none;\n",
              "      fill: #1967D2;\n",
              "      height: 32px;\n",
              "      padding: 0 0 0 0;\n",
              "      width: 32px;\n",
              "    }\n",
              "\n",
              "    .colab-df-convert:hover {\n",
              "      background-color: #E2EBFA;\n",
              "      box-shadow: 0px 1px 2px rgba(60, 64, 67, 0.3), 0px 1px 3px 1px rgba(60, 64, 67, 0.15);\n",
              "      fill: #174EA6;\n",
              "    }\n",
              "\n",
              "    [theme=dark] .colab-df-convert {\n",
              "      background-color: #3B4455;\n",
              "      fill: #D2E3FC;\n",
              "    }\n",
              "\n",
              "    [theme=dark] .colab-df-convert:hover {\n",
              "      background-color: #434B5C;\n",
              "      box-shadow: 0px 1px 3px 1px rgba(0, 0, 0, 0.15);\n",
              "      filter: drop-shadow(0px 1px 2px rgba(0, 0, 0, 0.3));\n",
              "      fill: #FFFFFF;\n",
              "    }\n",
              "  </style>\n",
              "\n",
              "      <script>\n",
              "        const buttonEl =\n",
              "          document.querySelector('#df-4264f5b7-e69a-4ec2-875c-e56b0e2bc24e button.colab-df-convert');\n",
              "        buttonEl.style.display =\n",
              "          google.colab.kernel.accessAllowed ? 'block' : 'none';\n",
              "\n",
              "        async function convertToInteractive(key) {\n",
              "          const element = document.querySelector('#df-4264f5b7-e69a-4ec2-875c-e56b0e2bc24e');\n",
              "          const dataTable =\n",
              "            await google.colab.kernel.invokeFunction('convertToInteractive',\n",
              "                                                     [key], {});\n",
              "          if (!dataTable) return;\n",
              "\n",
              "          const docLinkHtml = 'Like what you see? Visit the ' +\n",
              "            '<a target=\"_blank\" href=https://colab.research.google.com/notebooks/data_table.ipynb>data table notebook</a>'\n",
              "            + ' to learn more about interactive tables.';\n",
              "          element.innerHTML = '';\n",
              "          dataTable['output_type'] = 'display_data';\n",
              "          await google.colab.output.renderOutput(dataTable, element);\n",
              "          const docLink = document.createElement('div');\n",
              "          docLink.innerHTML = docLinkHtml;\n",
              "          element.appendChild(docLink);\n",
              "        }\n",
              "      </script>\n",
              "    </div>\n",
              "  </div>\n",
              "  "
            ]
          },
          "metadata": {},
          "execution_count": 31
        }
      ]
    },
    {
      "cell_type": "code",
      "source": [
        "# To create the independent variable.\n",
        "x = df['reciprocal_of_wind_velocity']\n",
        "x = np.array(x[:]).reshape(-1,1)\n",
        "# # To create the dependent variable.\n",
        "y = df['dc_output']\n",
        "y = np.array(y[:]).reshape(-1,1)\n",
        "# Splitting the dataset into the Training set and Test set.\n",
        "from sklearn.model_selection import train_test_split\n",
        "x_train, x_test, y_train, y_test = train_test_split(x,y, test_size = 0.2, random_state = 0)\n",
        "# Fitting Linear Regression to the Training set.\n",
        "from sklearn.linear_model import LinearRegression\n",
        "regressor = LinearRegression()\n",
        "regressor.fit(x_train, y_train)"
      ],
      "metadata": {
        "colab": {
          "base_uri": "https://localhost:8080/"
        },
        "id": "14Fbijd72u89",
        "outputId": "36b2b13e-06a8-4e9a-aa4d-a13ba47e36da"
      },
      "execution_count": 32,
      "outputs": [
        {
          "output_type": "execute_result",
          "data": {
            "text/plain": [
              "LinearRegression()"
            ]
          },
          "metadata": {},
          "execution_count": 32
        }
      ]
    },
    {
      "cell_type": "code",
      "source": [
        "regressor.coef_"
      ],
      "metadata": {
        "colab": {
          "base_uri": "https://localhost:8080/"
        },
        "id": "NgEX8-QY3u11",
        "outputId": "55b22917-bfab-4939-b089-ccc130391c82"
      },
      "execution_count": 33,
      "outputs": [
        {
          "output_type": "execute_result",
          "data": {
            "text/plain": [
              "array([[-6.90260794]])"
            ]
          },
          "metadata": {},
          "execution_count": 33
        }
      ]
    },
    {
      "cell_type": "code",
      "source": [
        "regressor.intercept_"
      ],
      "metadata": {
        "colab": {
          "base_uri": "https://localhost:8080/"
        },
        "id": "UihFrNdv32nF",
        "outputId": "d0c7b95f-e9b7-4bc5-98dc-019cbb8993bb"
      },
      "execution_count": 34,
      "outputs": [
        {
          "output_type": "execute_result",
          "data": {
            "text/plain": [
              "array([2.96430901])"
            ]
          },
          "metadata": {},
          "execution_count": 34
        }
      ]
    },
    {
      "cell_type": "code",
      "source": [
        "y_pred_train = regressor.predict(x_train)\n",
        "# predicting the Test set results\n",
        "y_pred = regressor.predict(x_test)"
      ],
      "metadata": {
        "id": "1kDSRnT7388n"
      },
      "execution_count": 35,
      "outputs": []
    },
    {
      "cell_type": "code",
      "source": [
        "# Predicted dc_output\n",
        "y_pred"
      ],
      "metadata": {
        "colab": {
          "base_uri": "https://localhost:8080/"
        },
        "id": "3rApFbsm4Nx0",
        "outputId": "72084ff4-283f-4c64-fe14-60665016eecd"
      },
      "execution_count": 36,
      "outputs": [
        {
          "output_type": "execute_result",
          "data": {
            "text/plain": [
              "array([[2.25269994],\n",
              "       [0.9341302 ],\n",
              "       [1.69777544],\n",
              "       [2.08499589],\n",
              "       [1.87728413]])"
            ]
          },
          "metadata": {},
          "execution_count": 36
        }
      ]
    },
    {
      "cell_type": "code",
      "source": [
        "# Actual dc_output\n",
        "y_test"
      ],
      "metadata": {
        "id": "4JI_bNTH4O9e",
        "outputId": "95ff7682-7545-4be4-d010-71b1dca7a21a",
        "colab": {
          "base_uri": "https://localhost:8080/"
        }
      },
      "execution_count": 37,
      "outputs": [
        {
          "output_type": "execute_result",
          "data": {
            "text/plain": [
              "array([[2.386],\n",
              "       [1.057],\n",
              "       [1.501],\n",
              "       [2.179],\n",
              "       [1.93 ]])"
            ]
          },
          "metadata": {},
          "execution_count": 37
        }
      ]
    },
    {
      "cell_type": "code",
      "source": [
        "import statsmodels.api as sm\n",
        "\n",
        "\n",
        "#add constant to predictor variables\n",
        "x = sm.add_constant(x)\n",
        "\n",
        "#fit linear regression model\n",
        "model = sm.OLS(y, x).fit()\n",
        "\n",
        "#view model summary\n",
        "print(model.summary())"
      ],
      "metadata": {
        "colab": {
          "base_uri": "https://localhost:8080/"
        },
        "id": "1IzTI3o14iUC",
        "outputId": "b19786a7-3152-43cf-bf34-516736d6dd89"
      },
      "execution_count": 38,
      "outputs": [
        {
          "output_type": "stream",
          "name": "stdout",
          "text": [
            "                            OLS Regression Results                            \n",
            "==============================================================================\n",
            "Dep. Variable:                      y   R-squared:                       0.980\n",
            "Model:                            OLS   Adj. R-squared:                  0.979\n",
            "Method:                 Least Squares   F-statistic:                     1128.\n",
            "Date:                Fri, 30 Dec 2022   Prob (F-statistic):           4.74e-21\n",
            "Time:                        12:36:14   Log-Likelihood:                 24.635\n",
            "No. Observations:                  25   AIC:                            -45.27\n",
            "Df Residuals:                      23   BIC:                            -42.83\n",
            "Df Model:                           1                                         \n",
            "Covariance Type:            nonrobust                                         \n",
            "==============================================================================\n",
            "                 coef    std err          t      P>|t|      [0.025      0.975]\n",
            "------------------------------------------------------------------------------\n",
            "const          2.9789      0.045     66.341      0.000       2.886       3.072\n",
            "x1            -6.9345      0.206    -33.592      0.000      -7.362      -6.508\n",
            "==============================================================================\n",
            "Omnibus:                        2.768   Durbin-Watson:                   1.567\n",
            "Prob(Omnibus):                  0.251   Jarque-Bera (JB):                2.287\n",
            "Skew:                          -0.720   Prob(JB):                        0.319\n",
            "Kurtosis:                       2.646   Cond. No.                         11.4\n",
            "==============================================================================\n",
            "\n",
            "Notes:\n",
            "[1] Standard Errors assume that the covariance matrix of the errors is correctly specified.\n"
          ]
        }
      ]
    },
    {
      "cell_type": "code",
      "source": [
        "# To check the linearity between wind_velocity v/s dc_output.\n",
        "plt.scatter(df['reciprocal_of_wind_velocity'],df['dc_output']) \n",
        "plt.title('reciprocal_of_wind_velocity v/s dc_output', fontsize = 15)\n",
        "plt.xlabel('wind_velocity', fontsize = 15)\n",
        "plt.ylabel('dc_output', fontsize = 15)\n",
        "plt.show()"
      ],
      "metadata": {
        "colab": {
          "base_uri": "https://localhost:8080/",
          "height": 316
        },
        "id": "qTNwQQ647vbc",
        "outputId": "453119d6-4c77-4c7f-cd3e-1c6d46f8c896"
      },
      "execution_count": 39,
      "outputs": [
        {
          "output_type": "display_data",
          "data": {
            "text/plain": [
              "<Figure size 432x288 with 1 Axes>"
            ],
            "image/png": "[encoded data removed]"
          },
          "metadata": {}
        }
      ]
    },
    {
      "cell_type": "code",
      "source": [
        "# To check linearity and Normality test\n",
        "sns.set(style = 'ticks', color_codes = True, font_scale = 2)\n",
        "linearity = sns.pairplot(df, height = 2, diag_kind = 'hist', kind = 'reg')\n",
        "linearity.fig.suptitle('scatter plot', y = 1)"
      ],
      "metadata": {
        "colab": {
          "base_uri": "https://localhost:8080/",
          "height": 635
        },
        "id": "U9veRq0f4xbf",
        "outputId": "fbb3bacb-9c83-41e6-85e7-b18d412ba27f"
      },
      "execution_count": 40,
      "outputs": [
        {
          "output_type": "stream",
          "name": "stderr",
          "text": [
            "/usr/local/lib/python3.8/dist-packages/seaborn/axisgrid.py:88: UserWarning: Tight layout not applied. tight_layout cannot make axes width small enough to accommodate all axes decorations\n",
            "  self._figure.tight_layout(*args, **kwargs)\n",
            "/usr/local/lib/python3.8/dist-packages/seaborn/axisgrid.py:88: UserWarning: Tight layout not applied. tight_layout cannot make axes width small enough to accommodate all axes decorations\n",
            "  self._figure.tight_layout(*args, **kwargs)\n"
          ]
        },
        {
          "output_type": "execute_result",
          "data": {
            "text/plain": [
              "Text(0.5, 1, 'scatter plot')"
            ]
          },
          "metadata": {},
          "execution_count": 40
        },
        {
          "output_type": "display_data",
          "data": {
            "text/plain": [
              "<Figure size 432x432 with 12 Axes>"
            ],
            "image/png": "[encoded data removed]"
          },
          "metadata": {}
        }
      ]
    },
    {
      "cell_type": "code",
      "source": [
        "from statsmodels.formula.api import ols\n",
        "reg = ols('dc_output~reciprocal_of_wind_velocity', data = df).fit()"
      ],
      "metadata": {
        "id": "ahwaFf3aA1U5"
      },
      "execution_count": 41,
      "outputs": []
    },
    {
      "cell_type": "code",
      "source": [
        "#fig, ax = plt.subplots(figsize=(8,2.5))\n",
        "pred_val = reg.fittedvalues.copy()\n",
        "true_val = df['dc_output'].values.copy()\n",
        "resid = true_val - pred_val\n",
        "sns.residplot(resid, pred_val)\n",
        "plt.title('Homoscedasticity')"
      ],
      "metadata": {
        "colab": {
          "base_uri": "https://localhost:8080/",
          "height": 377
        },
        "id": "6lCPoCXc4s1e",
        "outputId": "ea3b932c-c417-4fe4-e68d-1b31616c370c"
      },
      "execution_count": 42,
      "outputs": [
        {
          "output_type": "stream",
          "name": "stderr",
          "text": [
            "/usr/local/lib/python3.8/dist-packages/seaborn/_decorators.py:36: FutureWarning: Pass the following variables as keyword args: x, y. From version 0.12, the only valid positional argument will be `data`, and passing other arguments without an explicit keyword will result in an error or misinterpretation.\n",
            "  warnings.warn(\n"
          ]
        },
        {
          "output_type": "execute_result",
          "data": {
            "text/plain": [
              "Text(0.5, 1.0, 'Homoscedasticity')"
            ]
          },
          "metadata": {},
          "execution_count": 42
        },
        {
          "output_type": "display_data",
          "data": {
            "text/plain": [
              "<Figure size 432x288 with 1 Axes>"
            ],
            "image/png": "[encoded data removed]"
          },
          "metadata": {}
        }
      ]
    },
    {
      "cell_type": "markdown",
      "source": [
        "# ANOVA Table:"
      ],
      "metadata": {
        "id": "FuvMAMGqzp5b"
      }
    },
    {
      "cell_type": "code",
      "source": [
        "model = ols('dc_output ~ reciprocal_of_wind_velocity', data = df).fit()\n",
        "anova_table = sm.stats.anova_lm(model, type = 2)\n",
        "anova_table"
      ],
      "metadata": {
        "colab": {
          "base_uri": "https://localhost:8080/",
          "height": 112
        },
        "id": "XrQMijGR0g1p",
        "outputId": "aa4ef4c4-3c17-44a4-b85c-eb11dee897c7"
      },
      "execution_count": 43,
      "outputs": [
        {
          "output_type": "execute_result",
          "data": {
            "text/plain": [
              "                               df     sum_sq    mean_sq            F  \\\n",
              "reciprocal_of_wind_velocity   1.0  10.007218  10.007218  1128.432713   \n",
              "Residual                     23.0   0.203970   0.008868          NaN   \n",
              "\n",
              "                                   PR(>F)  \n",
              "reciprocal_of_wind_velocity  4.742548e-21  \n",
              "Residual                              NaN  "
            ],
            "text/html": [
              "\n",
              "  <div id=\"df-8dac6778-8abe-4dee-9cce-a90d7a0cdeda\">\n",
              "    <div class=\"colab-df-container\">\n",
              "      <div>\n",
              "<style scoped>\n",
              "    .dataframe tbody tr th:only-of-type {\n",
              "        vertical-align: middle;\n",
              "    }\n",
              "\n",
              "    .dataframe tbody tr th {\n",
              "        vertical-align: top;\n",
              "    }\n",
              "\n",
              "    .dataframe thead th {\n",
              "        text-align: right;\n",
              "    }\n",
              "</style>\n",
              "<table border=\"1\" class=\"dataframe\">\n",
              "  <thead>\n",
              "    <tr style=\"text-align: right;\">\n",
              "      <th></th>\n",
              "      <th>df</th>\n",
              "      <th>sum_sq</th>\n",
              "      <th>mean_sq</th>\n",
              "      <th>F</th>\n",
              "      <th>PR(&gt;F)</th>\n",
              "    </tr>\n",
              "  </thead>\n",
              "  <tbody>\n",
              "    <tr>\n",
              "      <th>reciprocal_of_wind_velocity</th>\n",
              "      <td>1.0</td>\n",
              "      <td>10.007218</td>\n",
              "      <td>10.007218</td>\n",
              "      <td>1128.432713</td>\n",
              "      <td>4.742548e-21</td>\n",
              "    </tr>\n",
              "    <tr>\n",
              "      <th>Residual</th>\n",
              "      <td>23.0</td>\n",
              "      <td>0.203970</td>\n",
              "      <td>0.008868</td>\n",
              "      <td>NaN</td>\n",
              "      <td>NaN</td>\n",
              "    </tr>\n",
              "  </tbody>\n",
              "</table>\n",
              "</div>\n",
              "      <button class=\"colab-df-convert\" onclick=\"convertToInteractive('df-8dac6778-8abe-4dee-9cce-a90d7a0cdeda')\"\n",
              "              title=\"Convert this dataframe to an interactive table.\"\n",
              "              style=\"display:none;\">\n",
              "        \n",
              "  <svg xmlns=\"http://www.w3.org/2000/svg\" height=\"24px\"viewBox=\"0 0 24 24\"\n",
              "       width=\"24px\">\n",
              "    <path d=\"M0 0h24v24H0V0z\" fill=\"none\"/>\n",
              "    <path d=\"M18.56 5.44l.94 2.06.94-2.06 2.06-.94-2.06-.94-.94-2.06-.94 2.06-2.06.94zm-11 1L8.5 8.5l.94-2.06 2.06-.94-2.06-.94L8.5 2.5l-.94 2.06-2.06.94zm10 10l.94 2.06.94-2.06 2.06-.94-2.06-.94-.94-2.06-.94 2.06-2.06.94z\"/><path d=\"M17.41 7.96l-1.37-1.37c-.4-.4-.92-.59-1.43-.59-.52 0-1.04.2-1.43.59L10.3 9.45l-7.72 7.72c-.78.78-.78 2.05 0 2.83L4 21.41c.39.39.9.59 1.41.59.51 0 1.02-.2 1.41-.59l7.78-7.78 2.81-2.81c.8-.78.8-2.07 0-2.86zM5.41 20L4 18.59l7.72-7.72 1.47 1.35L5.41 20z\"/>\n",
              "  </svg>\n",
              "      </button>\n",
              "      \n",
              "  <style>\n",
              "    .colab-df-container {\n",
              "      display:flex;\n",
              "      flex-wrap:wrap;\n",
              "      gap: 12px;\n",
              "    }\n",
              "\n",
              "    .colab-df-convert {\n",
              "      background-color: #E8F0FE;\n",
              "      border: none;\n",
              "      border-radius: 50%;\n",
              "      cursor: pointer;\n",
              "      display: none;\n",
              "      fill: #1967D2;\n",
              "      height: 32px;\n",
              "      padding: 0 0 0 0;\n",
              "      width: 32px;\n",
              "    }\n",
              "\n",
              "    .colab-df-convert:hover {\n",
              "      background-color: #E2EBFA;\n",
              "      box-shadow: 0px 1px 2px rgba(60, 64, 67, 0.3), 0px 1px 3px 1px rgba(60, 64, 67, 0.15);\n",
              "      fill: #174EA6;\n",
              "    }\n",
              "\n",
              "    [theme=dark] .colab-df-convert {\n",
              "      background-color: #3B4455;\n",
              "      fill: #D2E3FC;\n",
              "    }\n",
              "\n",
              "    [theme=dark] .colab-df-convert:hover {\n",
              "      background-color: #434B5C;\n",
              "      box-shadow: 0px 1px 3px 1px rgba(0, 0, 0, 0.15);\n",
              "      filter: drop-shadow(0px 1px 2px rgba(0, 0, 0, 0.3));\n",
              "      fill: #FFFFFF;\n",
              "    }\n",
              "  </style>\n",
              "\n",
              "      <script>\n",
              "        const buttonEl =\n",
              "          document.querySelector('#df-8dac6778-8abe-4dee-9cce-a90d7a0cdeda button.colab-df-convert');\n",
              "        buttonEl.style.display =\n",
              "          google.colab.kernel.accessAllowed ? 'block' : 'none';\n",
              "\n",
              "        async function convertToInteractive(key) {\n",
              "          const element = document.querySelector('#df-8dac6778-8abe-4dee-9cce-a90d7a0cdeda');\n",
              "          const dataTable =\n",
              "            await google.colab.kernel.invokeFunction('convertToInteractive',\n",
              "                                                     [key], {});\n",
              "          if (!dataTable) return;\n",
              "\n",
              "          const docLinkHtml = 'Like what you see? Visit the ' +\n",
              "            '<a target=\"_blank\" href=https://colab.research.google.com/notebooks/data_table.ipynb>data table notebook</a>'\n",
              "            + ' to learn more about interactive tables.';\n",
              "          element.innerHTML = '';\n",
              "          dataTable['output_type'] = 'display_data';\n",
              "          await google.colab.output.renderOutput(dataTable, element);\n",
              "          const docLink = document.createElement('div');\n",
              "          docLink.innerHTML = docLinkHtml;\n",
              "          element.appendChild(docLink);\n",
              "        }\n",
              "      </script>\n",
              "    </div>\n",
              "  </div>\n",
              "  "
            ]
          },
          "metadata": {},
          "execution_count": 43
        }
      ]
    },
    {
      "cell_type": "markdown",
      "source": [
        "The model becomes \n",
        "* predicated_dc_output = (2.96430901) -(6.90260794) (1/wind_velocity)"
      ],
      "metadata": {
        "id": "yWg5P-O042ql"
      }
    },
    {
      "cell_type": "markdown",
      "source": [
        "* H0 : fit is good.\n",
        "* H1: fit is not good.\n",
        "\n",
        "conclusion: we got the R squared values which is equal to 0.98. \n",
        "\n",
        "we accept the null hypothesis at los less than 2.5 %\n",
        "i.e fit is good.\n",
        "\n",
        "It is observed that\n",
        "\n",
        "\n",
        "1.   When given data is assumed to be linear, we get that plot of the residuals against wind speed clearly points out the inadequacy.\n",
        "2.   After transforming wind_velocity variable, we get that residual plot showed no apparent abnormalities.\n",
        "\n",
        "As a result, Transformation of variable work well for the model.\n",
        "\n",
        "\n",
        "Thanks!\n"
      ],
      "metadata": {
        "id": "HZrA_NJt5i_K"
      }
    }
  ]
}